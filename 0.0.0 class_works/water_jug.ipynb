{
 "metadata": {
  "language_info": {
   "codemirror_mode": {
    "name": "ipython",
    "version": 3
   },
   "file_extension": ".py",
   "mimetype": "text/x-python",
   "name": "python",
   "nbconvert_exporter": "python",
   "pygments_lexer": "ipython3",
   "version": "3.7.3-final"
  },
  "orig_nbformat": 2,
  "kernelspec": {
   "name": "python3",
   "display_name": "Python 3",
   "language": "python"
  }
 },
 "nbformat": 4,
 "nbformat_minor": 2,
 "cells": [
  {
   "cell_type": "code",
   "execution_count": 80,
   "metadata": {},
   "outputs": [],
   "source": [
    "# taking the input \n",
    "\n",
    "def waterjug():\n",
    "    a = int(input(\"enter the total no of liter \"))\n",
    "    jug1 = int(input(\"enter the quantiity of jug1 \"))\n",
    "    jug2 = int(input(\"enter the quantity of the jug2\"))\n",
    "    validator(a, jug1,jug2)\n",
    "\n",
    "    print(\"all right \")\n",
    "\n",
    "\n"
   ]
  },
  {
   "cell_type": "code",
   "execution_count": 79,
   "metadata": {},
   "outputs": [],
   "source": [
    "def validator(l, n1, n2):\n",
    "    '''\n",
    "    takes three input and return whether it is applicapble or not \n",
    "    '''\n",
    "    pass\n",
    "    if(l<n1 and l <n2) :\n",
    "        if(l%(hcf(n1,n2))==0):\n",
    "            a = \"validator passed\"\n",
    "            return (a)\n",
    "    else :\n",
    "        print(\"please enter again cannnot fit in the algo\")\n",
    "        \n",
    "    \n"
   ]
  },
  {
   "cell_type": "code",
   "execution_count": 69,
   "metadata": {},
   "outputs": [],
   "source": [
    "#greatest common factor \n",
    "\n",
    "def hcf(m,n):\n",
    "    lower = min(m,n)\n",
    "    upper = max(m,n)\n",
    "    if(n == 0):\n",
    "        return m \n",
    "    else:\n",
    "        return hcf(lower,upper%lower)"
   ]
  },
  {
   "cell_type": "code",
   "execution_count": 70,
   "metadata": {},
   "outputs": [
    {
     "output_type": "stream",
     "name": "stdout",
     "text": [
      "please enter again cannnot fit in the algo\n"
     ]
    }
   ],
   "source": [
    "validator(7,4,3)"
   ]
  },
  {
   "cell_type": "code",
   "execution_count": 71,
   "metadata": {},
   "outputs": [
    {
     "output_type": "execute_result",
     "data": {
      "text/plain": [
       "True"
      ]
     },
     "metadata": {},
     "execution_count": 71
    }
   ],
   "source": [
    "2<3"
   ]
  },
  {
   "source": [
    "False or False"
   ],
   "cell_type": "code",
   "metadata": {},
   "execution_count": 75,
   "outputs": [
    {
     "output_type": "execute_result",
     "data": {
      "text/plain": [
       "False"
      ]
     },
     "metadata": {},
     "execution_count": 75
    }
   ]
  },
  {
   "cell_type": "code",
   "execution_count": 78,
   "metadata": {},
   "outputs": [
    {
     "output_type": "execute_result",
     "data": {
      "text/plain": [
       "False"
      ]
     },
     "metadata": {},
     "execution_count": 78
    }
   ],
   "source": [
    "7<2 or 7<2"
   ]
  },
  {
   "cell_type": "code",
   "execution_count": null,
   "metadata": {},
   "outputs": [],
   "source": []
  }
 ]
}