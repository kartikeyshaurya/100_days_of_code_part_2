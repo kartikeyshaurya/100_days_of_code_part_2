{
 "metadata": {
  "language_info": {
   "codemirror_mode": {
    "name": "ipython",
    "version": 3
   },
   "file_extension": ".py",
   "mimetype": "text/x-python",
   "name": "python",
   "nbconvert_exporter": "python",
   "pygments_lexer": "ipython3",
   "version": "3.7.3-final"
  },
  "orig_nbformat": 2,
  "kernelspec": {
   "name": "python3",
   "display_name": "Python 3",
   "language": "python"
  }
 },
 "nbformat": 4,
 "nbformat_minor": 2,
 "cells": [
  {
   "cell_type": "code",
   "execution_count": 37,
   "metadata": {},
   "outputs": [
    {
     "output_type": "stream",
     "name": "stdout",
     "text": [
      "algorithm does not discussed\ncurrent value of jug_1  is 3  and the second jug is 0\ncurrent state of jUg_1 is 0 and the second jug is 3\ncurrent value of jug_1  is 3  and the second jug is 3\ncurrent state of jUg_1 is 2 and the second jug is 4\nall right worked succesfully \n"
     ]
    }
   ],
   "source": [
    "# taking the input \n",
    "\n",
    "def waterjug():\n",
    "    a = int(input(\"enter the total no of liter to find out \"))\n",
    "    jug1 = int(input(\"enter the quantiity of jug1 \"))\n",
    "    jug2 = int(input(\"enter the quantity of the jug2\"))\n",
    "    validator(a, jug1,jug2)\n",
    "    final_algo(jug1,jug2,a)\n",
    "    print(\"all right worked succesfully \")\n",
    "\n",
    "waterjug()"
   ]
  },
  {
   "cell_type": "code",
   "execution_count": 5,
   "metadata": {},
   "outputs": [],
   "source": [
    "def validator(final_quantity,jug_1 , jug_2):\n",
    "    '''\n",
    "    takes three input and return whether it is applicapble or not \n",
    "    '''\n",
    "    print(\"validation algorithm does not discussed\")\n",
    "        \n",
    "    \n"
   ]
  },
  {
   "cell_type": "code",
   "execution_count": 32,
   "metadata": {},
   "outputs": [],
   "source": [
    "def final_algo(jug_1, jug_2 , final_volume):\n",
    "    state_1 = 0 \n",
    "    state_2 = 0\n",
    "    while(state_1 != final_volume and state_2 != final_volume):\n",
    "        if(state_1 == 0) :\n",
    "            state_1 = jug_1 \n",
    "            print(\"current value of jug_1  is \" + str(state_1) + \"  and the second jug is \" + str(state_2))\n",
    "        elif(state_2 == jug_2):\n",
    "            state_2 = 0\n",
    "            print(\"current state of jog_1 is \" + str(state_1) + \" and the second jug is \" + str(state_2))\n",
    "        else :\n",
    "            fin = min(jug_2-state_2 ,state_1 )\n",
    "            state_2 = state_2 + fin\n",
    "            state_1 = state_1 -fin\n",
    "            print(\"current state of jUg_1 is \" + str(state_1) + \" and the second jug is \" + str(state_2))\n",
    "    "
   ]
  },
  {
   "cell_type": "code",
   "execution_count": 35,
   "metadata": {},
   "outputs": [
    {
     "output_type": "stream",
     "name": "stdout",
     "text": [
      "algorithm does not discussed\ncurrent value of jug_1  is 4  and the second jug is 0\ncurrent state of jUg_1 is 1 and the second jug is 3\ncurrent state of jog_1 is 1 and the second jug is 0\ncurrent state of jUg_1 is 0 and the second jug is 1\ncurrent value of jug_1  is 4  and the second jug is 1\ncurrent state of jUg_1 is 2 and the second jug is 3\nall right \n"
     ]
    }
   ],
   "source": [
    "waterjug()"
   ]
  },
  {
   "cell_type": "code",
   "execution_count": 31,
   "metadata": {
    "tags": []
   },
   "outputs": [
    {
     "output_type": "stream",
     "name": "stdout",
     "text": [
      "current value of jug_1  is 3  and the second jug is 0\ncurrent state of jUg_1 is 0 and the second jug is 3\ncurrent value of jug_1  is 3  and the second jug is 3\ncurrent state of jUg_1 is 2 and the second jug is 4\n"
     ]
    }
   ],
   "source": [
    "jug_1 = 3\n",
    "jug_2 = 4\n",
    "final_volume = 2 \n",
    "random_1 = 0\n",
    "random_2 = 0\n",
    "\n",
    "while(random_1 != final_volume and random_2 != final_volume):\n",
    "    if(random_1 == 0) :\n",
    "        random_1 = jug_1 \n",
    "        print(\"current value of jug_1  is \" + str(random_1) + \"  and the second jug is \" + str(random_2))\n",
    "    elif(random_2 == jug_2):\n",
    "        random_2 = 0 \n",
    "        print(\"current state of jog_1 is \" + str(random_1) + \" and the second jug is \" + str(random_2))\n",
    "    else :\n",
    "        fin = min(jug_2-random_2 ,random_1 )\n",
    "        random_2 = random_2 + fin\n",
    "        random_1 = random_1 -fin\n",
    "        print(\"current state of jUg_1 is \" + str(random_1) + \" and the second jug is \" + str(random_2))\n",
    "\n",
    "\n",
    "  "
   ]
  },
  {
   "cell_type": "code",
   "execution_count": 33,
   "metadata": {},
   "outputs": [
    {
     "output_type": "stream",
     "name": "stdout",
     "text": [
      "current value of jug_1  is 3  and the second jug is 0\ncurrent state of jUg_1 is 0 and the second jug is 3\ncurrent value of jug_1  is 3  and the second jug is 3\ncurrent state of jUg_1 is 2 and the second jug is 4\n"
     ]
    }
   ],
   "source": [
    "final_algo(3,4,2)"
   ]
  },
  {
   "cell_type": "code",
   "execution_count": null,
   "metadata": {},
   "outputs": [],
   "source": []
  }
 ]
}