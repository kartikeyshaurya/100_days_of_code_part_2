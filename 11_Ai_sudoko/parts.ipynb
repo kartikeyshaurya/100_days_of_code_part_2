{
 "metadata": {
  "language_info": {
   "codemirror_mode": {
    "name": "ipython",
    "version": 3
   },
   "file_extension": ".py",
   "mimetype": "text/x-python",
   "name": "python",
   "nbconvert_exporter": "python",
   "pygments_lexer": "ipython3",
   "version": "3.7.3-final"
  },
  "orig_nbformat": 2,
  "kernelspec": {
   "name": "python3",
   "display_name": "Python 3",
   "language": "python"
  }
 },
 "nbformat": 4,
 "nbformat_minor": 2,
 "cells": [
  {
   "cell_type": "code",
   "execution_count": 17,
   "metadata": {},
   "outputs": [],
   "source": [
    "rows = 'ABCDEFGHI'\n",
    "cols = '123456789'\n",
    "def cross(a, b):\n",
    "      return [s+t for s in a for t in b]\n",
    "boxes = cross(rows,cols)"
   ]
  },
  {
   "cell_type": "code",
   "execution_count": 18,
   "metadata": {},
   "outputs": [],
   "source": [
    "row_units = [cross(r, cols) for r in rows]\n",
    "# Element example:\n",
    "# row_units[0] = ['A1', 'A2', 'A3', 'A4', 'A5', 'A6', 'A7', 'A8', 'A9']\n",
    "# This is the top most row.\n",
    "\n",
    "column_units = [cross(rows, c) for c in cols]\n",
    "# Element example:\n",
    "# column_units[0] = ['A1', 'B1', 'C1', 'D1', 'E1', 'F1', 'G1', 'H1', 'I1']\n",
    "# This is the left most column.\n",
    "\n",
    "square_units = [cross(rs, cs) for rs in ('ABC','DEF','GHI') for cs in ('123','456','789')]\n",
    "# Element example:\n",
    "# square_units[0] = ['A1', 'A2', 'A3', 'B1', 'B2', 'B3', 'C1', 'C2', 'C3']\n",
    "# This is the top left square.\n",
    "\n",
    "unitlist = row_units + column_units + square_units"
   ]
  },
  {
   "cell_type": "code",
   "execution_count": 19,
   "metadata": {},
   "outputs": [],
   "source": [
    "sample = '..3.2.6..9..3.5..1..18.64....81.29..7.......8..67.82....26.95..8..2.3..9..5.1.3..'"
   ]
  },
  {
   "cell_type": "code",
   "execution_count": 20,
   "metadata": {
    "tags": []
   },
   "outputs": [],
   "source": [
    "b = {}\n",
    "for i in boxes:\n",
    "    for j in sample:\n",
    "        b[i] = j"
   ]
  },
  {
   "cell_type": "code",
   "execution_count": 21,
   "metadata": {},
   "outputs": [],
   "source": [
    "def grid_values(grid):\n",
    "    \"\"\"Convert grid string into {<box>: <value>} dict with '.' value for empties.\n",
    "\n",
    "    Args:\n",
    "        grid: Sudoku grid in string form, 81 characters long\n",
    "    Returns:\n",
    "        Sudoku grid in dictionary form:\n",
    "        - keys: Box labels, e.g. 'A1'\n",
    "        - values: Value in corresponding box, e.g. '8', or '.' if it is empty.\n",
    "    \"\"\"\n",
    "    if len(grid) != 81:\n",
    "        print(\"Grid must be 81 length\")\n",
    "    else:\n",
    "        zip_data = zip(boxes, grid)\n",
    "        my_grid = dict(zip_data)\n",
    "        return my_grid"
   ]
  },
  {
   "cell_type": "code",
   "execution_count": 22,
   "metadata": {},
   "outputs": [],
   "source": [
    "a = grid_values(sample)\n",
    "\n",
    "def grid_values_improved(x):\n",
    "    a= grid_values(x)\n",
    "    for keys in a :\n",
    "        if a[keys] == \".\":\n",
    "            a[keys] = \"123456789\"\n",
    "    return a       "
   ]
  },
  {
   "cell_type": "code",
   "execution_count": 26,
   "metadata": {},
   "outputs": [
    {
     "output_type": "execute_result",
     "data": {
      "text/plain": [
       "['.',\n",
       " '.',\n",
       " '3',\n",
       " '.',\n",
       " '2',\n",
       " '.',\n",
       " '6',\n",
       " '.',\n",
       " '.',\n",
       " '9',\n",
       " '.',\n",
       " '.',\n",
       " '3',\n",
       " '.',\n",
       " '5',\n",
       " '.',\n",
       " '.',\n",
       " '1',\n",
       " '.',\n",
       " '.',\n",
       " '1',\n",
       " '8',\n",
       " '.',\n",
       " '6',\n",
       " '4',\n",
       " '.',\n",
       " '.',\n",
       " '.',\n",
       " '.',\n",
       " '8',\n",
       " '1',\n",
       " '.',\n",
       " '2',\n",
       " '9',\n",
       " '.',\n",
       " '.',\n",
       " '7',\n",
       " '.',\n",
       " '.',\n",
       " '.',\n",
       " '.',\n",
       " '.',\n",
       " '.',\n",
       " '.',\n",
       " '8',\n",
       " '.',\n",
       " '.',\n",
       " '6',\n",
       " '7',\n",
       " '.',\n",
       " '8',\n",
       " '2',\n",
       " '.',\n",
       " '.',\n",
       " '.',\n",
       " '.',\n",
       " '2',\n",
       " '6',\n",
       " '.',\n",
       " '9',\n",
       " '5',\n",
       " '.',\n",
       " '.',\n",
       " '8',\n",
       " '.',\n",
       " '.',\n",
       " '2',\n",
       " '.',\n",
       " '3',\n",
       " '.',\n",
       " '.',\n",
       " '9',\n",
       " '.',\n",
       " '.',\n",
       " '5',\n",
       " '.',\n",
       " '1',\n",
       " '.',\n",
       " '3',\n",
       " '.',\n",
       " '.']"
      ]
     },
     "metadata": {},
     "execution_count": 26
    }
   ],
   "source": [
    "grid_values_improved(sample)\n",
    "vc= list(a.values())\n",
    "vc"
   ]
  },
  {
   "cell_type": "code",
   "execution_count": null,
   "metadata": {},
   "outputs": [],
   "source": [
    "# appplying the first Startagy Elimination :- \n",
    "\n",
    "def eliminate(values):\n",
    "    \"\"\"Eliminate values from peers of each box with a single value.\n",
    "\n",
    "    Go through all the boxes, and whenever there is a box with a single value,\n",
    "    eliminate this value from the set of values of all its peers.\n",
    "\n",
    "    Args:\n",
    "        values: Sudoku in dictionary form.\n",
    "    Returns:\n",
    "        Resulting Sudoku in dictionary form after eliminating values.\n",
    "    \"\"\"\n",
    "    "
   ]
  },
  {
   "cell_type": "code",
   "execution_count": 9,
   "metadata": {},
   "outputs": [
    {
     "output_type": "stream",
     "name": "stdout",
     "text": [
      "A\nA\nA\nA\nA\nA\nA\nA\nA\n"
     ]
    }
   ],
   "source": []
  },
  {
   "cell_type": "code",
   "execution_count": null,
   "metadata": {},
   "outputs": [],
   "source": []
  }
 ]
}