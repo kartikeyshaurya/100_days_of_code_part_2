{
 "metadata": {
  "language_info": {
   "codemirror_mode": {
    "name": "ipython",
    "version": 3
   },
   "file_extension": ".py",
   "mimetype": "text/x-python",
   "name": "python",
   "nbconvert_exporter": "python",
   "pygments_lexer": "ipython3",
   "version": "3.7.3-final"
  },
  "orig_nbformat": 2,
  "kernelspec": {
   "name": "python3",
   "display_name": "Python 3",
   "language": "python"
  }
 },
 "nbformat": 4,
 "nbformat_minor": 2,
 "cells": [
  {
   "cell_type": "code",
   "execution_count": 26,
   "metadata": {
    "tags": []
   },
   "outputs": [
    {
     "output_type": "stream",
     "name": "stdout",
     "text": [
      "11\n10\n9\n8\n7\n6\n5\n4\n3\n2\n1\n0\nended the loop\n"
     ]
    }
   ],
   "source": [
    "# print 1 to N without loop \n",
    "def printer(n):\n",
    "    \n",
    "    if(n>0 ):\n",
    "        \n",
    "        n = n-1\n",
    "        \n",
    "        print(n)\n",
    "        \n",
    "        printer(n)\n",
    "    else:\n",
    "        print(\"ended the loop\")\n",
    "    \n",
    "    \n",
    "printer(12)"
   ]
  },
  {
   "cell_type": "code",
   "execution_count": 29,
   "metadata": {},
   "outputs": [],
   "source": [
    "i = 0\n",
    "def printer(n):\n",
    "    global i \n",
    "    i = i+1 \n",
    "    if(n>=1):\n",
    "        \n",
    "        n = n-1\n",
    "        print(i)\n",
    "        \n",
    "        return(printer(n))"
   ]
  },
  {
   "cell_type": "code",
   "execution_count": 30,
   "metadata": {},
   "outputs": [
    {
     "output_type": "stream",
     "name": "stdout",
     "text": [
      "1\n2\n3\n4\n5\n6\n7\n8\n9\n10\n11\n12\n13\n14\n15\n16\n17\n18\n19\n20\n21\n22\n23\n"
     ]
    }
   ],
   "source": [
    "printer(23)"
   ]
  },
  {
   "cell_type": "code",
   "execution_count": 65,
   "metadata": {},
   "outputs": [],
   "source": [
    "# sum of digits of Numbers \n",
    "sum = 0 \n",
    "def sumOfDigits(n):\n",
    "    global sum \n",
    "    if(n>0):\n",
    "        sum = sum + n % 10 \n",
    "        n = (n - (n % 10))/10\n",
    "        print(int(sum))\n",
    "        return sumOfDigits(n)\n",
    "    \n",
    "        \n",
    "\n"
   ]
  },
  {
   "cell_type": "code",
   "execution_count": 66,
   "metadata": {},
   "outputs": [
    {
     "output_type": "stream",
     "name": "stdout",
     "text": [
      "3\n5\n6\n"
     ]
    }
   ],
   "source": [
    "sumOfDigits(123)"
   ]
  },
  {
   "cell_type": "code",
   "execution_count": 86,
   "metadata": {},
   "outputs": [],
   "source": [
    "# counting the Digits in a Number \n",
    "count = 0 \n",
    "\n",
    "def digit_counter(n):\n",
    "    global count\n",
    "    if(n > 0):\n",
    "        count = count +1\n",
    "        n = n //10 \n",
    "        return digit_counter(n)\n",
    "    else:\n",
    "        print(count)"
   ]
  },
  {
   "cell_type": "code",
   "execution_count": 87,
   "metadata": {},
   "outputs": [
    {
     "output_type": "stream",
     "name": "stdout",
     "text": [
      "5\n"
     ]
    }
   ],
   "source": [
    "digit_counter(12345)"
   ]
  }
 ]
}