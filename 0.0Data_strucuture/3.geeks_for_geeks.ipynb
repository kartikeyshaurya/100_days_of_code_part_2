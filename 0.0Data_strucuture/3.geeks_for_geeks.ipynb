{
 "metadata": {
  "language_info": {
   "codemirror_mode": {
    "name": "ipython",
    "version": 3
   },
   "file_extension": ".py",
   "mimetype": "text/x-python",
   "name": "python",
   "nbconvert_exporter": "python",
   "pygments_lexer": "ipython3",
   "version": "3.7.3-final"
  },
  "orig_nbformat": 2,
  "kernelspec": {
   "name": "python3",
   "display_name": "Python 3",
   "language": "python"
  }
 },
 "nbformat": 4,
 "nbformat_minor": 2,
 "cells": [
  {
   "source": [
    "![title](assets/1.png)"
   ],
   "cell_type": "markdown",
   "metadata": {}
  },
  {
   "cell_type": "code",
   "execution_count": 64,
   "metadata": {
    "tags": []
   },
   "outputs": [
    {
     "output_type": "stream",
     "name": "stdout",
     "text": [
      "11\n10\n9\n8\n7\n6\n5\n4\n3\n2\n1\n0\nended the loop\n"
     ]
    }
   ],
   "source": [
    "# print 1 to N without loop \n",
    "def printer(n):\n",
    "    \n",
    "    if(n>0 ):\n",
    "        \n",
    "        n = n-1\n",
    "        \n",
    "        print(n)\n",
    "        \n",
    "        printer(n)\n",
    "    else:\n",
    "        print(\"ended the loop\")\n",
    "    \n",
    "    \n",
    "printer(12)"
   ]
  },
  {
   "cell_type": "code",
   "execution_count": 29,
   "metadata": {},
   "outputs": [],
   "source": [
    "i = 0\n",
    "def printer(n):\n",
    "    global i \n",
    "    i = i+1 \n",
    "    if(n>=1):\n",
    "        \n",
    "        n = n-1\n",
    "        print(i)\n",
    "        \n",
    "        return(printer(n))"
   ]
  },
  {
   "cell_type": "code",
   "execution_count": 69,
   "metadata": {},
   "outputs": [],
   "source": [
    "def printer2(n):\n",
    "    if(n==0):\n",
    "        return     \n",
    "    printer2(n-1)\n",
    "    print(n)\n",
    "    "
   ]
  },
  {
   "cell_type": "code",
   "execution_count": 70,
   "metadata": {},
   "outputs": [
    {
     "output_type": "stream",
     "name": "stdout",
     "text": [
      "1\n2\n3\n4\n5\n"
     ]
    }
   ],
   "source": [
    "printer2(5)"
   ]
  },
  {
   "source": [
    "![title](assets/2.png)"
   ],
   "cell_type": "markdown",
   "metadata": {}
  },
  {
   "cell_type": "code",
   "execution_count": 65,
   "metadata": {},
   "outputs": [],
   "source": [
    "# sum of digits of Numbers \n",
    "sum = 0 \n",
    "def sumOfDigits(n):\n",
    "    global sum \n",
    "    if(n>0):\n",
    "        sum = sum + n % 10 \n",
    "        n = (n - (n % 10))/10\n",
    "        print(int(sum))\n",
    "        return sumOfDigits(n)\n",
    "    \n",
    "        \n",
    "\n"
   ]
  },
  {
   "cell_type": "code",
   "execution_count": 66,
   "metadata": {},
   "outputs": [
    {
     "output_type": "stream",
     "name": "stdout",
     "text": [
      "3\n5\n6\n"
     ]
    }
   ],
   "source": [
    "sumOfDigits(123)"
   ]
  },
  {
   "source": [
    "![title](assets/3.png)"
   ],
   "cell_type": "markdown",
   "metadata": {}
  },
  {
   "cell_type": "code",
   "execution_count": 86,
   "metadata": {},
   "outputs": [],
   "source": [
    "# counting the Digits in a Number \n",
    "count = 0 \n",
    "\n",
    "def digit_counter(n):\n",
    "    global count\n",
    "    if(n > 0):\n",
    "        count = count +1\n",
    "        n = n //10 \n",
    "        return digit_counter(n)\n",
    "    else:\n",
    "        print(count)"
   ]
  },
  {
   "cell_type": "code",
   "execution_count": 87,
   "metadata": {},
   "outputs": [
    {
     "output_type": "stream",
     "name": "stdout",
     "text": [
      "5\n"
     ]
    }
   ],
   "source": [
    "digit_counter(12345)"
   ]
  },
  {
   "source": [
    "![title](assets/digitalroot.png)"
   ],
   "cell_type": "markdown",
   "metadata": {}
  },
  {
   "cell_type": "code",
   "execution_count": 33,
   "metadata": {},
   "outputs": [],
   "source": [
    "# sum of digits of Numbers \n",
    "sum = 0 \n",
    "def sumOfDDigits(n):\n",
    "    global sum \n",
    "    if(n>0):\n",
    "        sum = sum + n % 10 \n",
    "        n = (n - (n % 10))/10\n",
    "        print(sum)\n",
    "        return sumOfDDigits(n)\n",
    "    else:\n",
    "        if(sum >= 10):\n",
    "            sum = sum//10 + sum % 10\n",
    "            print(sum)\n",
    "            sumOfDDigits(n)"
   ]
  },
  {
   "source": [
    "![title](assets/5.png)"
   ],
   "cell_type": "markdown",
   "metadata": {}
  },
  {
   "cell_type": "code",
   "execution_count": 3,
   "metadata": {},
   "outputs": [],
   "source": [
    "m = 1\n",
    "def fibonnaci(n) :\n",
    "    global m \n",
    "    if(n>0):\n",
    "        m = fibonnaci(n-1) + fibonnaci(n-2)\n",
    "    return(m)\n",
    "        \n",
    "        "
   ]
  },
  {
   "cell_type": "code",
   "execution_count": 4,
   "metadata": {},
   "outputs": [
    {
     "output_type": "execute_result",
     "data": {
      "text/plain": [
       "12"
      ]
     },
     "metadata": {},
     "execution_count": 4
    }
   ],
   "source": [
    "fibonnaci(3)"
   ]
  },
  {
   "source": [
    "![title](assets/6.png)"
   ],
   "cell_type": "markdown",
   "metadata": {}
  },
  {
   "source": [
    "![title](assets/7.png)"
   ],
   "cell_type": "markdown",
   "metadata": {}
  },
  {
   "source": [
    "![title](assets/8.png)"
   ],
   "cell_type": "markdown",
   "metadata": {}
  },
  {
   "source": [
    "![title](assets/9.png)"
   ],
   "cell_type": "markdown",
   "metadata": {}
  },
  {
   "source": [
    "![title](assets/10.png)"
   ],
   "cell_type": "markdown",
   "metadata": {}
  },
  {
   "source": [
    "![title](assets/11.png)"
   ],
   "cell_type": "markdown",
   "metadata": {}
  },
  {
   "source": [
    "![title](assets/12.png)"
   ],
   "cell_type": "markdown",
   "metadata": {}
  },
  {
   "cell_type": "code",
   "execution_count": null,
   "metadata": {},
   "outputs": [],
   "source": []
  }
 ]
}