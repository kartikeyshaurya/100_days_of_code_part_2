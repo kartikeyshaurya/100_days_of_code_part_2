{
 "metadata": {
  "language_info": {
   "codemirror_mode": {
    "name": "ipython",
    "version": 3
   },
   "file_extension": ".py",
   "mimetype": "text/x-python",
   "name": "python",
   "nbconvert_exporter": "python",
   "pygments_lexer": "ipython3",
   "version": "3.7.9-final"
  },
  "orig_nbformat": 2,
  "kernelspec": {
   "name": "python3",
   "display_name": "Python 3",
   "language": "python"
  }
 },
 "nbformat": 4,
 "nbformat_minor": 2,
 "cells": [
  {
   "cell_type": "code",
   "execution_count": 3,
   "metadata": {},
   "outputs": [
    {
     "output_type": "stream",
     "name": "stdout",
     "text": [
      "1\n2\n3\n4\n"
     ]
    }
   ],
   "source": [
    "def p(n):\n",
    "    if (n == 0):\n",
    "        return \n",
    "    p(n-1)\n",
    "    print(n)\n",
    "    \n",
    "\n",
    "p(4)"
   ]
  },
  {
   "cell_type": "code",
   "execution_count": 3,
   "metadata": {},
   "outputs": [],
   "source": [
    "# NAtural number sum using recursion \n",
    "\n",
    "def sum(n):\n",
    "    if n==0:\n",
    "        return 1 \n",
    "    return n + sum(n-1)"
   ]
  },
  {
   "cell_type": "code",
   "execution_count": 4,
   "metadata": {},
   "outputs": [
    {
     "output_type": "execute_result",
     "data": {
      "text/plain": [
       "121"
      ]
     },
     "metadata": {},
     "execution_count": 4
    }
   ],
   "source": [
    "sum(15)\n",
    "\n"
   ]
  },
  {
   "cell_type": "code",
   "execution_count": 5,
   "metadata": {},
   "outputs": [],
   "source": [
    "a ='aman'"
   ]
  },
  {
   "cell_type": "code",
   "execution_count": 6,
   "metadata": {},
   "outputs": [
    {
     "output_type": "execute_result",
     "data": {
      "text/plain": [
       "'m'"
      ]
     },
     "metadata": {},
     "execution_count": 6
    }
   ],
   "source": []
  },
  {
   "cell_type": "code",
   "execution_count": 13,
   "metadata": {},
   "outputs": [],
   "source": [
    "# palindrome using recursion\n",
    "\n",
    "def palindrome(s, start, end) :\n",
    "    if s[start] == s[end] :\n",
    "        return True\n",
    "    else :\n",
    "        return False \n",
    "    return palindrome()\n"
   ]
  },
  {
   "cell_type": "code",
   "execution_count": 14,
   "metadata": {},
   "outputs": [
    {
     "output_type": "error",
     "ename": "TypeError",
     "evalue": "palindrome() missing 2 required positional arguments: 'start' and 'end'",
     "traceback": [
      "\u001b[1;31m---------------------------------------------------------------------------\u001b[0m",
      "\u001b[1;31mTypeError\u001b[0m                                 Traceback (most recent call last)",
      "\u001b[1;32m<ipython-input-14-2414f0819330>\u001b[0m in \u001b[0;36m<module>\u001b[1;34m\u001b[0m\n\u001b[1;32m----> 1\u001b[1;33m \u001b[0mpalindrome\u001b[0m\u001b[1;33m(\u001b[0m\u001b[1;34m'atta'\u001b[0m\u001b[1;33m)\u001b[0m\u001b[1;33m\u001b[0m\u001b[1;33m\u001b[0m\u001b[0m\n\u001b[0m",
      "\u001b[1;31mTypeError\u001b[0m: palindrome() missing 2 required positional arguments: 'start' and 'end'"
     ]
    }
   ],
   "source": [
    "palindrome('atta')"
   ]
  },
  {
   "cell_type": "code",
   "execution_count": 31,
   "metadata": {},
   "outputs": [],
   "source": [
    "# tower of hanaiiii\n",
    "\n",
    "a = int(input(\"enter the number of disk number\"))"
   ]
  },
  {
   "cell_type": "code",
   "execution_count": 32,
   "metadata": {},
   "outputs": [],
   "source": [
    "disk1 = []\n",
    "disk2 = []\n",
    "disk3 = []\n",
    "for i in range(a):\n",
    "    disk1.append(i)\n",
    "    "
   ]
  },
  {
   "cell_type": "code",
   "execution_count": 33,
   "metadata": {},
   "outputs": [
    {
     "output_type": "execute_result",
     "data": {
      "text/plain": [
       "[0, 1, 2]"
      ]
     },
     "metadata": {},
     "execution_count": 33
    }
   ],
   "source": [
    "disk1"
   ]
  },
  {
   "cell_type": "code",
   "execution_count": 36,
   "metadata": {},
   "outputs": [
    {
     "output_type": "execute_result",
     "data": {
      "text/plain": [
       "0"
      ]
     },
     "metadata": {},
     "execution_count": 36
    }
   ],
   "source": [
    "sum(disk2)"
   ]
  },
  {
   "cell_type": "code",
   "execution_count": 38,
   "metadata": {},
   "outputs": [],
   "source": [
    "if (sum(disk2) == 0):\n",
    "    disk2.append(disk1[0])"
   ]
  },
  {
   "cell_type": "code",
   "execution_count": 39,
   "metadata": {},
   "outputs": [
    {
     "output_type": "execute_result",
     "data": {
      "text/plain": [
       "[0]"
      ]
     },
     "metadata": {},
     "execution_count": 39
    }
   ],
   "source": [
    "disk2"
   ]
  },
  {
   "cell_type": "code",
   "execution_count": 40,
   "metadata": {},
   "outputs": [],
   "source": [
    "if (sum(disk3)==0):\n",
    "    disk3.append(disk1[1])"
   ]
  },
  {
   "cell_type": "code",
   "execution_count": null,
   "metadata": {},
   "outputs": [],
   "source": [
    "# CHECK WHO IS BIGGER DISK 2  OR DISK 3 \n",
    "# PUT THAT BIGGER DISK AT THAT ROD\n",
    "# AGAIN MOVE THAT ROD "
   ]
  },
  {
   "cell_type": "code",
   "execution_count": null,
   "metadata": {},
   "outputs": [],
   "source": [
    "def tower():\n",
    "    if(sum(disk2) == 0):\n",
    "        disk2.append(disk1[0])\n",
    "        disk1.pop(0)\n",
    "    elif (sum(disk3)==0):\n",
    "        disk3.append(disk1[0])\n",
    "        disk1.pop(0)\n",
    "    tower()"
   ]
  },
  {
   "cell_type": "code",
   "execution_count": 43,
   "metadata": {},
   "outputs": [
    {
     "output_type": "execute_result",
     "data": {
      "text/plain": [
       "12"
      ]
     },
     "metadata": {},
     "execution_count": 43
    }
   ],
   "source": [
    "a = [9,12,13,14]\n",
    "a.pop(1)"
   ]
  },
  {
   "cell_type": "code",
   "execution_count": 1,
   "metadata": {},
   "outputs": [
    {
     "output_type": "stream",
     "name": "stdout",
     "text": [
      "Pattern found at index  0\nPattern found at index  9\nPattern found at index  13\n"
     ]
    }
   ],
   "source": [
    "# Python3 program for Naive Pattern \n",
    "# Searching algorithm \n",
    "def search(pat, txt): \n",
    "    M = len(pat) \n",
    "    N = len(txt) \n",
    "  \n",
    "    # A loop to slide pat[] one by one */ \n",
    "    for i in range(N - M + 1): \n",
    "        j = 0\n",
    "          \n",
    "        # For current index i, check  \n",
    "        # for pattern match */ \n",
    "        while(j < M): \n",
    "            if (txt[i + j] != pat[j]): \n",
    "                break\n",
    "            j += 1\n",
    "  \n",
    "        if (j == M):  \n",
    "            print(\"Pattern found at index \", i) \n",
    "  \n",
    "# Driver Code \n",
    "if __name__ == '__main__': \n",
    "    txt = \"AABAACAADAABAAABAA\"\n",
    "    pat = \"AABA\"\n",
    "    search(pat, txt) "
   ]
  },
  {
   "cell_type": "code",
   "execution_count": 20,
   "metadata": {},
   "outputs": [
    {
     "output_type": "stream",
     "name": "stdout",
     "text": [
      "7\nasdfgha\nnot Found\nasdfgha\nnot Found\nasdfgha\nnot Found\nasdfgha\nnot Found\nasdfgha\nnot Found\nasdfgha\nnot Found\nasdfgha\nnot Found\n"
     ]
    }
   ],
   "source": [
    "## tring my solution \n",
    "\n",
    "def naive_string(Pattern, test ):\n",
    "    a = len(test) - len(Pattern)\n",
    "    print(a)\n",
    "    m = 0\n",
    "    b = a\n",
    "\n",
    "    while(b > 0) :\n",
    "        i = 1\n",
    "        test1 = test[m:a]\n",
    "        pat = Pattern\n",
    "        print(test1)\n",
    "        if(test1 == Pattern):\n",
    "            print(test)\n",
    "            print(patter)\n",
    "            m = m+i\n",
    "            a = a+i\n",
    "            print(\"found at\" , a)\n",
    "        else:\n",
    "            print(\"not Found\")\n",
    "            b = b-1 \n",
    "\n",
    "naive_string( \"as\",\"asdfghasd\")"
   ]
  },
  {
   "cell_type": "code",
   "execution_count": null,
   "metadata": {},
   "outputs": [],
   "source": []
  },
  {
   "cell_type": "code",
   "execution_count": 25,
   "metadata": {},
   "outputs": [
    {
     "output_type": "execute_result",
     "data": {
      "text/plain": [
       "'f'"
      ]
     },
     "metadata": {},
     "execution_count": 25
    }
   ],
   "source": [
    "a= \"kggfjhgfhjg\"\n",
    "a[3]"
   ]
  },
  {
   "cell_type": "code",
   "execution_count": null,
   "metadata": {},
   "outputs": [],
   "source": []
  }
 ]
}