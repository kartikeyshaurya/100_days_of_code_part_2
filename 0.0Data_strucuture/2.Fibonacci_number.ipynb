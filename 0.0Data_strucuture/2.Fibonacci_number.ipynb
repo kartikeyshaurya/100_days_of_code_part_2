{
 "metadata": {
  "language_info": {
   "codemirror_mode": {
    "name": "ipython",
    "version": 3
   },
   "file_extension": ".py",
   "mimetype": "text/x-python",
   "name": "python",
   "nbconvert_exporter": "python",
   "pygments_lexer": "ipython3",
   "version": "3.8.3-final"
  },
  "orig_nbformat": 2,
  "kernelspec": {
   "name": "python3",
   "display_name": "Python 3",
   "language": "python"
  }
 },
 "nbformat": 4,
 "nbformat_minor": 2,
 "cells": [
  {
   "source": [
    "## Writing the Efficient Fibonacci numbrs "
   ],
   "cell_type": "markdown",
   "metadata": {}
  },
  {
   "cell_type": "code",
   "execution_count": 1,
   "metadata": {},
   "outputs": [],
   "source": [
    "# naive soution \n",
    "def fibonacci_number_naive(n):\n",
    "    assert 0 <= n <= 45\n",
    "\n",
    "    if n <= 1:\n",
    "        return n\n",
    "\n",
    "    return fibonacci_number_naive(n - 1) + fibonacci_number_naive(n - 2)"
   ]
  },
  {
   "cell_type": "code",
   "execution_count": 2,
   "metadata": {},
   "outputs": [],
   "source": [
    "# My solution \n",
    "a = [0,1]\n",
    "\n",
    "def fibonacci_number(n):\n",
    "    assert 0 <= n <= 45\n",
    "    if n<= 1:\n",
    "        return a[n]\n",
    "    else:\n",
    "        b = int(a[-1]+ a[-2])\n",
    "        a.append(b)\n",
    "        n = n-1\n",
    "        fibonacci_number(n)\n",
    "\n",
    "    return(a)"
   ]
  },
  {
   "source": [
    "## LAst Digit of the fibonacci Numbers \n"
   ],
   "cell_type": "markdown",
   "metadata": {}
  },
  {
   "cell_type": "code",
   "execution_count": 3,
   "metadata": {},
   "outputs": [],
   "source": [
    "def last_digit_of_fibonacci_number_naive(n):\n",
    "    assert 0 <= n <= 10 ** 7\n",
    "\n",
    "    if n <= 1:\n",
    "        return n\n",
    "\n",
    "    return (last_digit_of_fibonacci_number_naive(n - 1) + last_digit_of_fibonacci_number_naive(n - 2)) % 10\n",
    "\n"
   ]
  },
  {
   "cell_type": "code",
   "execution_count": 4,
   "metadata": {},
   "outputs": [],
   "source": [
    "# My solution\n",
    "\n",
    "\n",
    "a = [0,1]\n",
    "\n",
    "\n",
    "def last_digit_of_fibonacci_number(n):\n",
    "    assert 0 <= n <= 10 ** 7\n",
    "    if n <= 1:\n",
    "        return a[n]\n",
    "    else:\n",
    "        b = int(a[-1] + a[-2])\n",
    "        a.append(b)\n",
    "        n = n - 1\n",
    "        last_digit_of_fibonacci_number(n)\n",
    "\n",
    "    return (a[-1] % 10)"
   ]
  },
  {
   "cell_type": "code",
   "execution_count": null,
   "metadata": {},
   "outputs": [],
   "source": []
  }
 ]
}