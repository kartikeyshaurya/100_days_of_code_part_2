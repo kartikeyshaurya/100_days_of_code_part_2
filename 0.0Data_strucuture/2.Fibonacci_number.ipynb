{
 "metadata": {
  "language_info": {
   "codemirror_mode": {
    "name": "ipython",
    "version": 3
   },
   "file_extension": ".py",
   "mimetype": "text/x-python",
   "name": "python",
   "nbconvert_exporter": "python",
   "pygments_lexer": "ipython3",
   "version": "3.8.3-final"
  },
  "orig_nbformat": 2,
  "kernelspec": {
   "name": "python3",
   "display_name": "Python 3",
   "language": "python"
  }
 },
 "nbformat": 4,
 "nbformat_minor": 2,
 "cells": [
  {
   "source": [
    "## Writing the Efficient Fibonacci numbrs "
   ],
   "cell_type": "markdown",
   "metadata": {}
  },
  {
   "cell_type": "code",
   "execution_count": 1,
   "metadata": {},
   "outputs": [],
   "source": [
    "# naive soution \n",
    "def fibonacci_number_naive(n):\n",
    "    assert 0 <= n <= 45\n",
    "\n",
    "    if n <= 1:\n",
    "        return n\n",
    "\n",
    "    return fibonacci_number_naive(n - 1) + fibonacci_number_naive(n - 2)"
   ]
  },
  {
   "cell_type": "code",
   "execution_count": 2,
   "metadata": {},
   "outputs": [],
   "source": [
    "# My solution \n",
    "a = [0,1]\n",
    "\n",
    "def fibonacci_number(n):\n",
    "    assert 0 <= n <= 45\n",
    "    if n<= 1:\n",
    "        return a[n]\n",
    "    else:\n",
    "        b = int(a[-1]+ a[-2])\n",
    "        a.append(b)\n",
    "        n = n-1\n",
    "        fibonacci_number(n)\n",
    "\n",
    "    return(a)"
   ]
  },
  {
   "source": [
    "## LAst Digit of the fibonacci Numbers \n"
   ],
   "cell_type": "markdown",
   "metadata": {}
  },
  {
   "cell_type": "code",
   "execution_count": 3,
   "metadata": {},
   "outputs": [],
   "source": [
    "def last_digit_of_fibonacci_number_naive(n):\n",
    "    assert 0 <= n <= 10 ** 7\n",
    "\n",
    "    if n <= 1:\n",
    "        return n\n",
    "\n",
    "    return (last_digit_of_fibonacci_number_naive(n - 1) + last_digit_of_fibonacci_number_naive(n - 2)) % 10\n",
    "\n"
   ]
  },
  {
   "cell_type": "code",
   "execution_count": 4,
   "metadata": {},
   "outputs": [],
   "source": [
    "# My solution\n",
    "\n",
    "\n",
    "a = [0,1]\n",
    "\n",
    "\n",
    "def last_digit_of_fibonacci_number(n):\n",
    "    assert 0 <= n <= 10 ** 7\n",
    "    if n <= 1:\n",
    "        return a[n]\n",
    "    else:\n",
    "        b = int(a[-1] + a[-2])\n",
    "        a.append(b)\n",
    "        n = n - 1\n",
    "        last_digit_of_fibonacci_number(n)\n",
    "\n",
    "    return (a[-1] % 10)"
   ]
  },
  {
   "source": [
    "## OPtimul Greatest Common factors \n"
   ],
   "cell_type": "markdown",
   "metadata": {}
  },
  {
   "cell_type": "code",
   "execution_count": 5,
   "metadata": {},
   "outputs": [],
   "source": [
    "def gcd_naive(a, b):\n",
    "    assert 1 <= a <= 2 * 10 ** 9 and 1 <= b <= 2 * 10 ** 9\n",
    "\n",
    "    for divisor in range(min(a, b), 0, -1):\n",
    "        if a % divisor == 0 and b % divisor == 0:\n",
    "            return divisor\n",
    "\n",
    "    assert False\n"
   ]
  },
  {
   "cell_type": "code",
   "execution_count": 6,
   "metadata": {},
   "outputs": [],
   "source": [
    "## my solutions \n",
    "\n",
    "def gcd(a, b):\n",
    "    assert 0 <= a <= 2 * 10 ** 9 and 0 <= b <= 2 * 10 ** 9\n",
    "\n",
    "    greatest = max(a, b)\n",
    "    smallest = min(a, b)\n",
    "\n",
    "    if smallest == 0:\n",
    "        return greatest\n",
    "    else:\n",
    "        d = greatest % smallest\n",
    "\n",
    "    return gcd(smallest, d)\n"
   ]
  },
  {
   "source": [
    "## Optimum Least Common Factor \n"
   ],
   "cell_type": "markdown",
   "metadata": {}
  },
  {
   "cell_type": "code",
   "execution_count": 7,
   "metadata": {},
   "outputs": [],
   "source": [
    "def lcm_naive(a, b):\n",
    "    assert 1 <= a <= 2 * 10 ** 9 and 1 <= b <= 2 * 10 ** 9\n",
    "\n",
    "    multiple = max(a, b)\n",
    "    while multiple % a != 0 or multiple % b != 0:\n",
    "        multiple += 1\n",
    "\n",
    "    return multiple"
   ]
  },
  {
   "cell_type": "code",
   "execution_count": 9,
   "metadata": {},
   "outputs": [],
   "source": [
    "## My Solutions \n",
    "def gcd(a, b):\n",
    "    assert 0 <= a <= 2 * 10 ** 9 and 0 <= b <= 2 * 10 ** 9\n",
    "\n",
    "    greatest = max(a, b)\n",
    "    smallest = min(a, b)\n",
    "\n",
    "    if smallest == 0:\n",
    "        return greatest\n",
    "    else:\n",
    "        d = greatest % smallest\n",
    "\n",
    "    return gcd(smallest, d)\n",
    "\n",
    "def lcm(a, b):\n",
    "    assert 1 <= a <= 2 * 10 ** 9 and 1 <= b <= 2 * 10 ** 9\n",
    "    return  (a/gcd(a,b))*b\n",
    "\n",
    "\n"
   ]
  },
  {
   "source": [
    "## Fibonacci Number Again \n",
    "\n",
    "<b>Problem Statement </b> \n",
    "Given two integers 0≤n≤1018 and 2≤m≤103, compute the n-th Fibonacci number modulo m. <br>\n",
    "example :-\n",
    "to compute, say, F2015mod3 we just need to find the remainder of 2015 when divided by 8. Since 2015=251⋅8+7, we conclude that F2015mod3=F7mod3=1. \n"
   ],
   "cell_type": "markdown",
   "metadata": {}
  },
  {
   "cell_type": "code",
   "execution_count": 10,
   "metadata": {},
   "outputs": [],
   "source": [
    "# Naive Solutions \n",
    "def fibonacci_number_again_naive(n, m):\n",
    "    assert 0 <= n <= 10 ** 18 and 2 <= m <= 10 ** 3\n",
    "\n",
    "    if n <= 1:\n",
    "        return n\n",
    "\n",
    "    previous, current = 0, 1\n",
    "    for _ in range(n - 1):\n",
    "        previous, current = current, (previous + current) % m\n",
    "\n",
    "    return current"
   ]
  },
  {
   "cell_type": "code",
   "execution_count": 14,
   "metadata": {},
   "outputs": [
    {
     "output_type": "execute_result",
     "data": {
      "text/plain": [
       "1"
      ]
     },
     "metadata": {},
     "execution_count": 14
    }
   ],
   "source": [
    "fibonacci_number_again_naive(15,3)"
   ]
  },
  {
   "source": [
    "### Last Digit Of the Sum Of Fibonacci Numbers \n",
    "\n",
    "    "
   ],
   "cell_type": "markdown",
   "metadata": {}
  },
  {
   "cell_type": "code",
   "execution_count": 19,
   "metadata": {},
   "outputs": [],
   "source": [
    "#Naive_solution \n",
    "\n",
    "def last_digit_of_the_sum_of_fibonacci_numbers_naive(n):\n",
    "    assert 0 <= n <= 10 ** 18\n",
    "\n",
    "    if n <= 1:\n",
    "        return n\n",
    "\n",
    "    fibonacci_numbers = [0] * (n + 1)\n",
    "    fibonacci_numbers[0] = 0\n",
    "    fibonacci_numbers[1] = 1\n",
    "    for i in range(2, n + 1):\n",
    "        fibonacci_numbers[i] = fibonacci_numbers[i - 2] + fibonacci_numbers[i - 1]\n",
    "\n",
    "    return sum(fibonacci_numbers) % 10\n",
    "\n"
   ]
  },
  {
   "cell_type": "code",
   "execution_count": 22,
   "metadata": {},
   "outputs": [
    {
     "output_type": "execute_result",
     "data": {
      "text/plain": [
       "0"
      ]
     },
     "metadata": {},
     "execution_count": 22
    }
   ],
   "source": []
  },
  {
   "cell_type": "code",
   "execution_count": 34,
   "metadata": {},
   "outputs": [],
   "source": [
    "# Solution\n",
    "a = [0,1]\n",
    "def last_digit_of_the_sum_of_fibonacci_numbers(n):\n",
    "    assert 0 <= n <= 10 ** 18\n",
    "\n",
    "    \n",
    "    if n <= 1:\n",
    "        return a[n]\n",
    "    else:\n",
    "        b = int(a[-1] + a[-2])\n",
    "        a.append(b)\n",
    "        n = n - 1\n",
    "        last_digit_of_fibonacci_number(n)\n",
    "\n",
    "    return (sum(a) % 10)\n",
    "\n",
    "\n"
   ]
  },
  {
   "cell_type": "code",
   "execution_count": 35,
   "metadata": {},
   "outputs": [
    {
     "output_type": "execute_result",
     "data": {
      "text/plain": [
       "True"
      ]
     },
     "metadata": {},
     "execution_count": 35
    }
   ],
   "source": [
    "last_digit_of_the_sum_of_fibonacci_numbers_naive(20) ==last_digit_of_the_sum_of_fibonacci_numbers(20)"
   ]
  },
  {
   "source": [
    "## Last Digit of the sum of Fibonacci Number Again "
   ],
   "cell_type": "markdown",
   "metadata": {}
  },
  {
   "cell_type": "code",
   "execution_count": 36,
   "metadata": {},
   "outputs": [],
   "source": [
    "# NAive Solutions \n",
    "\n",
    "def last_digit_of_the_sum_of_fibonacci_numbers_again_naive(from_index, to_index):\n",
    "    assert 0 <= from_index <= to_index <= 10 ** 18\n",
    "\n",
    "    if to_index == 0:\n",
    "        return 0\n",
    "\n",
    "    fibonacci_numbers = [0] * (to_index + 1)\n",
    "    fibonacci_numbers[0] = 0\n",
    "    fibonacci_numbers[1] = 1\n",
    "    for i in range(2, to_index + 1):\n",
    "        fibonacci_numbers[i] = fibonacci_numbers[i - 2] + fibonacci_numbers[i - 1]\n",
    "\n",
    "    return sum(fibonacci_numbers[from_index:to_index + 1]) % 10\n"
   ]
  },
  {
   "cell_type": "code",
   "execution_count": 39,
   "metadata": {},
   "outputs": [
    {
     "output_type": "execute_result",
     "data": {
      "text/plain": [
       "6"
      ]
     },
     "metadata": {},
     "execution_count": 39
    }
   ],
   "source": [
    "last_digit_of_the_sum_of_fibonacci_numbers_again_naive(1,12)"
   ]
  },
  {
   "cell_type": "code",
   "execution_count": 48,
   "metadata": {},
   "outputs": [],
   "source": [
    "a = [0,1]\n",
    "\n",
    "def fibonacci_number(n):\n",
    "    assert 0 <= n <= 45\n",
    "    if n<= 1:\n",
    "        return a[n]\n",
    "    else:\n",
    "        b = int(a[-1]+ a[-2])\n",
    "        a.append(b)\n",
    "        n = n-1\n",
    "        fibonacci_number(n)\n",
    "\n",
    "    return(a)\n",
    "def last_digit_of_the_sum_of_fibonacci_numbers_again(from_index, to_index):\n",
    "    assert 0 <= from_index <= to_index <= 10 ** 18\n",
    "\n",
    "    fibonacci_number(to_index)\n",
    "\n",
    "    return sum(a[from_index:to_index+1 ])% 10\n"
   ]
  },
  {
   "cell_type": "code",
   "execution_count": 49,
   "metadata": {},
   "outputs": [
    {
     "output_type": "execute_result",
     "data": {
      "text/plain": [
       "6"
      ]
     },
     "metadata": {},
     "execution_count": 49
    }
   ],
   "source": [
    "last_digit_of_the_sum_of_fibonacci_numbers_again(1,12)"
   ]
  },
  {
   "cell_type": "code",
   "execution_count": null,
   "metadata": {},
   "outputs": [],
   "source": []
  }
 ]
}