{
 "metadata": {
  "language_info": {
   "codemirror_mode": {
    "name": "ipython",
    "version": 3
   },
   "file_extension": ".py",
   "mimetype": "text/x-python",
   "name": "python",
   "nbconvert_exporter": "python",
   "pygments_lexer": "ipython3",
   "version": "3.8.3-final"
  },
  "orig_nbformat": 2,
  "kernelspec": {
   "name": "python3",
   "display_name": "Python 3",
   "language": "python"
  }
 },
 "nbformat": 4,
 "nbformat_minor": 2,
 "cells": [
  {
   "source": [
    "## Programming Challenge: Sum of Two Digits\n",
    "\n",
    "### Implementing  a Solutions \n",
    "\n",
    "<p>\n",
    "Implement the compute_sum function that takes two digits (that is, integers in the range from 0 to 9) and returns the sum of these two digits.\n",
    "\n",
    "We start from this ridiculously simple problem to show you the pipeline of designing an algorithm, implementing it, testing and debugging your program, and submitting it to the grading system.\n",
    "\n",
    "For this trivial problem, we will skip “Designing an algorithm” and \"Implementing\" steps and will move to testing.\n",
    "<p>\n",
    "\n",
    "### Testing \n",
    "<pr>\n",
    "Testing\n",
    "Switch to the file sum_of_two_digits_unit_tests.py. It contains unit tests for your implementation. If you haven't heard about unit testing before, we encourage you to read about it in this official doc article or to take a short course here, in PyCharm Edu (through File -> Browse Courses).\n",
    "\n",
    "For this starting programming challenge, we've already implemented everything for you. Press the green \"Execute\" button in the top left corner of the source file to run the tests and make sure that all tests pass successfully.\n",
    "\n",
    "In this challenge, the space of all possible inputs is so small that it is possible to check just all possible test cases: the test_all_inputs method goes through all pairs 0≤a,b≤9.\n",
    "<pr> \n",
    "\n"
   ],
   "cell_type": "markdown",
   "metadata": {}
  },
  {
   "cell_type": "code",
   "execution_count": 22,
   "metadata": {},
   "outputs": [],
   "source": [
    "## Solutions \n",
    "def sum_of_two_digits(first_digit, second_digit):\n",
    "    assert 0 <= first_digit <= 9 and 0 <= second_digit <= 9\n",
    "    return first_digit + second_digit \n",
    "\n",
    "\n"
   ]
  },
  {
   "cell_type": "code",
   "execution_count": 23,
   "metadata": {},
   "outputs": [
    {
     "output_type": "stream",
     "name": "stdout",
     "text": [
      "passed\npassed\npassed\npassed\npassed\npassed\npassed\npassed\npassed\npassed\npassed\npassed\npassed\npassed\npassed\npassed\npassed\npassed\npassed\npassed\npassed\npassed\npassed\npassed\npassed\npassed\npassed\npassed\npassed\npassed\npassed\npassed\npassed\npassed\npassed\npassed\npassed\npassed\npassed\npassed\npassed\npassed\npassed\npassed\npassed\npassed\npassed\npassed\npassed\npassed\npassed\npassed\npassed\npassed\npassed\npassed\npassed\npassed\npassed\npassed\npassed\npassed\npassed\npassed\npassed\npassed\npassed\npassed\npassed\npassed\npassed\npassed\npassed\npassed\npassed\npassed\npassed\npassed\npassed\npassed\npassed\npassed\npassed\npassed\npassed\npassed\npassed\npassed\npassed\npassed\npassed\npassed\npassed\npassed\npassed\npassed\npassed\npassed\npassed\npassed\n"
     ]
    }
   ],
   "source": [
    "def sum_of_digit_checker() :\n",
    "    for first_digit, second_digit in product(range(10), repeat = 2):\n",
    "        if(sum_of_two_digits(first_digit , second_digit) == first_digit+second_digit):\n",
    "            print(\"passed\")\n",
    "        else:\n",
    "            print(\"Failed\")\n",
    "            break\n",
    "\n",
    "\n",
    "sum_of_digit_checker()"
   ]
  },
  {
   "cell_type": "code",
   "execution_count": null,
   "metadata": {},
   "outputs": [],
   "source": []
  }
 ]
}