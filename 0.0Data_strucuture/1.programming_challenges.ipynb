{
 "metadata": {
  "language_info": {
   "codemirror_mode": {
    "name": "ipython",
    "version": 3
   },
   "file_extension": ".py",
   "mimetype": "text/x-python",
   "name": "python",
   "nbconvert_exporter": "python",
   "pygments_lexer": "ipython3",
   "version": "3.8.3-final"
  },
  "orig_nbformat": 2,
  "kernelspec": {
   "name": "python3",
   "display_name": "Python 3",
   "language": "python"
  }
 },
 "nbformat": 4,
 "nbformat_minor": 2,
 "cells": [
  {
   "source": [
    "## Programming Challenge: Sum of Two Digits\n",
    "\n",
    "### Implementing  a Solutions \n",
    "\n",
    "<p>\n",
    "Implement the compute_sum function that takes two digits (that is, integers in the range from 0 to 9) and returns the sum of these two digits.\n",
    "\n",
    "We start from this ridiculously simple problem to show you the pipeline of designing an algorithm, implementing it, testing and debugging your program, and submitting it to the grading system.\n",
    "\n",
    "For this trivial problem, we will skip “Designing an algorithm” and \"Implementing\" steps and will move to testing.\n",
    "<p>\n",
    "\n",
    "### Testing \n",
    "<pr>\n",
    "Testing\n",
    "Switch to the file sum_of_two_digits_unit_tests.py. It contains unit tests for your implementation. If you haven't heard about unit testing before, we encourage you to read about it in this official doc article or to take a short course here, in PyCharm Edu (through File -> Browse Courses).\n",
    "\n",
    "For this starting programming challenge, we've already implemented everything for you. Press the green \"Execute\" button in the top left corner of the source file to run the tests and make sure that all tests pass successfully.\n",
    "\n",
    "In this challenge, the space of all possible inputs is so small that it is possible to check just all possible test cases: the test_all_inputs method goes through all pairs 0≤a,b≤9.\n",
    "<pr> \n",
    "\n"
   ],
   "cell_type": "markdown",
   "metadata": {}
  },
  {
   "cell_type": "code",
   "execution_count": 22,
   "metadata": {},
   "outputs": [],
   "source": [
    "## Solutions \n",
    "def sum_of_two_digits(first_digit, second_digit):\n",
    "    assert 0 <= first_digit <= 9 and 0 <= second_digit <= 9\n",
    "    return first_digit + second_digit \n",
    "\n",
    "\n"
   ]
  },
  {
   "cell_type": "code",
   "execution_count": 23,
   "metadata": {},
   "outputs": [
    {
     "output_type": "stream",
     "name": "stdout",
     "text": [
      "passed\npassed\npassed\npassed\npassed\npassed\npassed\npassed\npassed\npassed\npassed\npassed\npassed\npassed\npassed\npassed\npassed\npassed\npassed\npassed\npassed\npassed\npassed\npassed\npassed\npassed\npassed\npassed\npassed\npassed\npassed\npassed\npassed\npassed\npassed\npassed\npassed\npassed\npassed\npassed\npassed\npassed\npassed\npassed\npassed\npassed\npassed\npassed\npassed\npassed\npassed\npassed\npassed\npassed\npassed\npassed\npassed\npassed\npassed\npassed\npassed\npassed\npassed\npassed\npassed\npassed\npassed\npassed\npassed\npassed\npassed\npassed\npassed\npassed\npassed\npassed\npassed\npassed\npassed\npassed\npassed\npassed\npassed\npassed\npassed\npassed\npassed\npassed\npassed\npassed\npassed\npassed\npassed\npassed\npassed\npassed\npassed\npassed\npassed\npassed\n"
     ]
    }
   ],
   "source": [
    "def sum_of_digit_checker() :\n",
    "    for first_digit, second_digit in product(range(10), repeat = 2):\n",
    "        if(sum_of_two_digits(first_digit , second_digit) == first_digit+second_digit):\n",
    "            print(\"passed\")\n",
    "        else:\n",
    "            print(\"Failed\")\n",
    "            break\n",
    "\n",
    "\n",
    "sum_of_digit_checker()"
   ]
  },
  {
   "source": [
    "## Challenge 2 Maximum Pairwise Products \n",
    "<p>\n",
    "Given a list A of non-negative integers, find the maximum product of two distinct elements (that is, the maximum value of A[i]⋅A[j] where i≠j; note that it may be the case that A[i]=A[j]). The length of A is at least 2 and at most 2⋅105, all elements are non-negative and do not exceed 2⋅105\n",
    "</p>\n",
    "\n",
    "### Naive Algorithm \n",
    "\n",
    "<p>\n",
    "Naive Algorithm\n",
    "The source file maximum_pairwise_product.py contains an implementation of a naive algorithm that just goes through all possible pairs. While it is clearly correct, it is too slow. To enusre this, make the following experiment. Add the following three lines to the end of the file:<br>\n",
    "\n",
    "n = 10 <br>\n",
    "A = [0] * n <br>\n",
    "print(max_pairwise_product_naive(A)) <br>\n",
    "<br>\n",
    "This code creates a list A of size 10 filled with zeros. It then passes it to the function max_pairwise_product_naive and prints the result. To see the result, press the green Run button. It will print the result (0) in the Run area on blink of an eye. Now, change the value of n from 10 to 105 by replacing 10 with 10**5 and run the resulting program again. You'll see that it hangs.\n",
    "</p>\n",
    "\n",
    "### Fast Algorithm \n",
    "\n",
    "we have to make a faster algorithm than the Naive Algo  \n",
    "\n",
    "### Testing \n",
    "\n",
    "<p>\n",
    "After implementing the function max_pairwise_product, start testing your solution. For this, switch to the file maximum_pairwise_product_unit_tests.py. It contains several unit tests that ensure the correctness of your program. The function test_small checks your function against a few manually created tests. The function test_stress generates a few short lists and checks whether your function returns the same as the naive one. Finally, the function test_large checks your function against massive datasets: the first one is a list of size 2⋅105 filled in with 4's, the second one is a list [0,1,…,105−1].\n",
    "<br>\n",
    "<br>\n",
    "Add two more unit tests and run it. Ensure that all tests pass.\n",
    "</p>"
   ],
   "cell_type": "markdown",
   "metadata": {}
  },
  {
   "cell_type": "code",
   "execution_count": 2,
   "metadata": {},
   "outputs": [],
   "source": [
    "def max_pairwise_product_naive(numbers):\n",
    "\n",
    "\n",
    "    product = 0\n",
    "\n",
    "    for i in range(len(numbers)):\n",
    "        for j in range(i + 1, len(numbers)):\n",
    "            product = max(product, numbers[i] * numbers[j])\n",
    "\n",
    "    return product\n",
    "\n",
    "def max_pairwise_product(numbers):\n",
    "    assert len(numbers) >= 2\n",
    "    assert all(0 <= x <= 2 * 10 ** 5 for x in numbers)\n",
    "\n",
    "    product = 0\n",
    "    a = max(numbers)\n",
    "    numbers.remove(a)\n",
    "    b = max(numbers)\n",
    "    multiply = a* b\n",
    "    return multiply"
   ]
  },
  {
   "cell_type": "code",
   "execution_count": 14,
   "metadata": {},
   "outputs": [],
   "source": [
    "## Test Conditions '\n",
    "import time\n",
    "from random import randint \n",
    "def test_small():\n",
    "    a = time.time()\n",
    "    (max_pairwise_product([1, 2, 3]), 6)\n",
    "    (max_pairwise_product([9, 3, 2]), 27)\n",
    "    (max_pairwise_product([7, 3, 7, 2]), 49)\n",
    "    b = time.time() - a\n",
    "    return b \n",
    "\n",
    "def test_stress():\n",
    "    a = time.time()\n",
    "    number_of_iterations = 10\n",
    "    array_size = 100\n",
    "    max_number = 2 * 10**5\n",
    "    for _ in range(number_of_iterations):\n",
    "        numbers = [randint(0, max_number) for _ in range(array_size)]\n",
    "        (max_pairwise_product(list(numbers)), max_pairwise_product_naive(numbers))\n",
    "    b = time.time() - a\n",
    "    return b \n",
    "\n",
    "\n",
    "def test_large():\n",
    "    a = time.time()\n",
    "    (max_pairwise_product([4] * (2 * 10**5)), 16)\n",
    "    (max_pairwise_product([x for x in range(10**5)]), (10**5 - 1) * (10**5 - 2))\n",
    "    (max_pairwise_product([1] * (2 * 10**5)), 1)\n",
    "\n",
    "    b = time.time() - a\n",
    "    return b\n"
   ]
  },
  {
   "cell_type": "code",
   "execution_count": 16,
   "metadata": {},
   "outputs": [
    {
     "output_type": "stream",
     "name": "stdout",
     "text": [
      "0.0\n0.03198409080505371\n"
     ]
    },
    {
     "output_type": "execute_result",
     "data": {
      "text/plain": [
       "0.1179966926574707"
      ]
     },
     "metadata": {},
     "execution_count": 16
    }
   ],
   "source": [
    "## Testing it \n",
    "print(test_small())\n",
    "print(test_stress())\n",
    "test_large()"
   ]
  },
  {
   "cell_type": "code",
   "execution_count": null,
   "metadata": {},
   "outputs": [],
   "source": []
  }
 ]
}