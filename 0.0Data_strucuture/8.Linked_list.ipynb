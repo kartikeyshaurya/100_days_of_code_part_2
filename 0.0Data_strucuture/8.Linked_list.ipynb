{
 "metadata": {
  "language_info": {
   "codemirror_mode": {
    "name": "ipython",
    "version": 3
   },
   "file_extension": ".py",
   "mimetype": "text/x-python",
   "name": "python",
   "nbconvert_exporter": "python",
   "pygments_lexer": "ipython3",
   "version": "3.7.3-final"
  },
  "orig_nbformat": 2,
  "kernelspec": {
   "name": "python3",
   "display_name": "Python 3",
   "language": "python"
  }
 },
 "nbformat": 4,
 "nbformat_minor": 2,
 "cells": [
  {
   "cell_type": "code",
   "execution_count": 1,
   "metadata": {},
   "outputs": [],
   "source": [
    "# creating a linked list with 3 nodes singly linked list \n"
   ]
  },
  {
   "cell_type": "code",
   "execution_count": 30,
   "metadata": {},
   "outputs": [],
   "source": [
    "class Twocore:\n",
    "    def __init__(self, datavalue = None):\n",
    "        self.datavalue = datavalue \n",
    "        self.linker = None \n",
    "class Initiliser :\n",
    "    def __init__(self):\n",
    "        self.headvalue = None\n",
    "    \n",
    "    # TRAVERSING THE LINKES LIST \n",
    "    def listprint(self):\n",
    "        printval =  self.headvalue\n",
    "        \n",
    "        while printval is not None:\n",
    "             print(printval.datavalue)\n",
    "             printval = printval.linker\n",
    "             print(printval)\n"
   ]
  },
  {
   "cell_type": "code",
   "execution_count": 35,
   "metadata": {},
   "outputs": [],
   "source": [
    "# initialisng the linked list \n",
    "\n",
    "linked = Initiliser()\n",
    "linked.headvalue = Twocore(\"first value \")\n",
    "\n",
    "second = Twocore(\"second value \")\n",
    "third = Twocore(\"third value \")\n",
    "\n",
    "linked.headvalue.linker = second\n",
    "second.linker  = third "
   ]
  },
  {
   "cell_type": "code",
   "execution_count": 36,
   "metadata": {},
   "outputs": [
    {
     "output_type": "stream",
     "name": "stdout",
     "text": [
      "first value \n<__main__.Twocore object at 0x000001ADC293EE48>\nsecond value \n<__main__.Twocore object at 0x000001ADC293EDD8>\nthird value \nNone\n"
     ]
    }
   ],
   "source": [
    "linked.listprint()"
   ]
  },
  {
   "cell_type": "code",
   "execution_count": 11,
   "metadata": {},
   "outputs": [
    {
     "output_type": "stream",
     "name": "stdout",
     "text": [
      "Mon\nTue\nWed\n"
     ]
    }
   ],
   "source": [
    "class Node:\n",
    "    def __init__(self, dataval=None):\n",
    "        self.dataval = dataval\n",
    "        self.nextval = None\n",
    "\n",
    "class SLinkedList:\n",
    "    def __init__(self):\n",
    "        self.headval = None\n",
    "\n",
    "    def listprint(self):\n",
    "        printval = self.headval\n",
    "        while printval is not None:\n",
    "            print (printval.dataval)\n",
    "            printval = printval.nextval\n",
    "\n",
    "list = SLinkedList()\n",
    "list.headval = Node(\"Mon\")\n",
    "e2 = Node(\"Tue\")\n",
    "e3 = Node(\"Wed\")\n",
    "\n",
    "# Link first Node to second node\n",
    "list.headval.nextval = e2\n",
    "\n",
    "# Link second Node to third node\n",
    "e2.nextval = e3\n",
    "\n",
    "list.listprint()"
   ]
  },
  {
   "cell_type": "code",
   "execution_count": 37,
   "metadata": {},
   "outputs": [],
   "source": [
    "# write a linked list with the value from n numbers like 1,2,3,4,5,6,7 .....n with a single functions as input and gives the output \n",
    "\n",
    "class Mainblock:\n",
    "    def __init__(self, value):\n",
    "        self.value = value\n",
    "        self.next = next \n",
    "class SlinkedList:\n",
    "    def __init__(self):\n",
    "        self.head = head \n",
    "\n",
    "    def ppprint(self):\n",
    "        random_variable = self.head \n",
    "        while random_variable is not None:\n",
    "            print(random_variable)\n",
    "            random_variable = random_variable.next\n",
    "        \n",
    "\n",
    "List = SLinkedList()\n",
    "SLinkedList.head = Mainblock(12) \n",
    "\n",
    "e2 = Mainblock(11)\n",
    "e3 = Mainblock(10)\n",
    "SLinkedList.head.next = e2 \n",
    "e2.next = e3 \n",
    "\n",
    "\n",
    "\n",
    "\n"
   ]
  },
  {
   "cell_type": "code",
   "execution_count": null,
   "metadata": {},
   "outputs": [],
   "source": []
  }
 ]
}