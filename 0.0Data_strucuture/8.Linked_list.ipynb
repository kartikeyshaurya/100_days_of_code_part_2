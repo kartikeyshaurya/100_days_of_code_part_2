{
 "metadata": {
  "language_info": {
   "codemirror_mode": {
    "name": "ipython",
    "version": 3
   },
   "file_extension": ".py",
   "mimetype": "text/x-python",
   "name": "python",
   "nbconvert_exporter": "python",
   "pygments_lexer": "ipython3",
   "version": "3.7.3-final"
  },
  "orig_nbformat": 2,
  "kernelspec": {
   "name": "python3",
   "display_name": "Python 3",
   "language": "python"
  }
 },
 "nbformat": 4,
 "nbformat_minor": 2,
 "cells": [
  {
   "cell_type": "code",
   "execution_count": 1,
   "metadata": {},
   "outputs": [],
   "source": [
    "# creating a linked list with 3 nodes singly linked list \n"
   ]
  },
  {
   "cell_type": "code",
   "execution_count": 30,
   "metadata": {},
   "outputs": [],
   "source": [
    "class Twocore:\n",
    "    def __init__(self, datavalue = None):\n",
    "        self.datavalue = datavalue \n",
    "        self.linker = None \n",
    "class Initiliser :\n",
    "    def __init__(self):\n",
    "        self.headvalue = None\n",
    "    \n",
    "    # TRAVERSING THE LINKES LIST \n",
    "    def listprint(self):\n",
    "        printval =  self.headvalue\n",
    "        \n",
    "        while printval is not None:\n",
    "             print(printval.datavalue)\n",
    "             printval = printval.linker\n",
    "             print(printval)\n"
   ]
  },
  {
   "cell_type": "code",
   "execution_count": 35,
   "metadata": {},
   "outputs": [],
   "source": [
    "# initialisng the linked list \n",
    "\n",
    "linked = Initiliser()\n",
    "linked.headvalue = Twocore(\"first value \")\n",
    "\n",
    "second = Twocore(\"second value \")\n",
    "third = Twocore(\"third value \")\n",
    "\n",
    "linked.headvalue.linker = second\n",
    "second.linker  = third "
   ]
  },
  {
   "cell_type": "code",
   "execution_count": 36,
   "metadata": {},
   "outputs": [
    {
     "output_type": "stream",
     "name": "stdout",
     "text": [
      "first value \n<__main__.Twocore object at 0x000001ADC293EE48>\nsecond value \n<__main__.Twocore object at 0x000001ADC293EDD8>\nthird value \nNone\n"
     ]
    }
   ],
   "source": [
    "linked.listprint()"
   ]
  },
  {
   "cell_type": "code",
   "execution_count": 78,
   "metadata": {},
   "outputs": [
    {
     "output_type": "stream",
     "name": "stdout",
     "text": [
      "b\na\n12\na\n14\na\n15\n"
     ]
    }
   ],
   "source": [
    "# write a linked list with the value from n numbers like 1,2,3,4,5,6,7 .....n with a single functions as input and gives the output \n",
    "class Node:\n",
    "    "
   ]
  },
  {
   "cell_type": "code",
   "execution_count": 7,
   "metadata": {},
   "outputs": [
    {
     "output_type": "stream",
     "name": "stdout",
     "text": [
      "12\n13\n14\n"
     ]
    }
   ],
   "source": [
    "# Linked list and traversal \n",
    "\n",
    "class Node:\n",
    "    def __init__(self, value ):\n",
    "        self.value = value \n",
    "        self.next = None\n",
    "    \n",
    "class LinkedList():\n",
    "        def __init__(self):\n",
    "            self.head = None \n",
    "        # traversing the linked list \n",
    "        def traversal(self):\n",
    "            var = self.head\n",
    "            while var is not None:\n",
    "                print(var.value)\n",
    "                var = var.next \n",
    "\n",
    "newlinkedlist = LinkedList()\n",
    "\n",
    "newlinkedlist.head = Node(12)\n",
    "\n",
    "second  = Node(13)\n",
    "third = Node(14)\n",
    "\n",
    "# connecting all the points \n",
    "\n",
    "newlinkedlist.head.next = second\n",
    "second.next = third\n",
    "\n",
    "newlinkedlist.traversal()"
   ]
  },
  {
   "cell_type": "code",
   "execution_count": 15,
   "metadata": {},
   "outputs": [
    {
     "output_type": "stream",
     "name": "stdout",
     "text": [
      "12\n13\n14\n16\n12\n13\n14\n"
     ]
    }
   ],
   "source": [
    "### insertion at the beginnning  in a Linked List \n",
    "\n",
    "class Node:\n",
    "    def __init__(self, value ):\n",
    "        self.value = value \n",
    "        self.next = None\n",
    "    \n",
    "class LinkedList():\n",
    "        def __init__(self):\n",
    "            self.head = None \n",
    "        # traversing the linked list \n",
    "        \n",
    "        def traversal(self):\n",
    "            var = self.head\n",
    "            while var is not None:\n",
    "                print(var.value)\n",
    "                var = var.next\n",
    "\n",
    "        # insertion \n",
    "        def insert(self, value):\n",
    "            headpart = Node(value)\n",
    "            headpart.next = self.head\n",
    "            self.head = headpart\n",
    "\n",
    "\n",
    "\n",
    "newlinkedlist = LinkedList()\n",
    "\n",
    "newlinkedlist.head = Node(12)\n",
    "\n",
    "second  = Node(13)\n",
    "third = Node(14)\n",
    "\n",
    "# connecting all the points \n",
    "\n",
    "newlinkedlist.head.next = second\n",
    "second.next = third\n",
    "\n",
    "newlinkedlist.traversal()\n",
    "newlinkedlist.insert(16)\n",
    "newlinkedlist.traversal()"
   ]
  },
  {
   "cell_type": "code",
   "execution_count": null,
   "metadata": {},
   "outputs": [],
   "source": [
    "## Insertion at the End of the Linked list "
   ]
  },
  {
   "cell_type": "code",
   "execution_count": null,
   "metadata": {},
   "outputs": [],
   "source": [
    "## Inserting in between two Data Nodes "
   ]
  },
  {
   "cell_type": "code",
   "execution_count": null,
   "metadata": {},
   "outputs": [],
   "source": [
    "# Removing "
   ]
  }
 ]
}