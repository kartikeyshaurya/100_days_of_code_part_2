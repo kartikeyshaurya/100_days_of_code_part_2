{
 "metadata": {
  "language_info": {
   "codemirror_mode": {
    "name": "ipython",
    "version": 3
   },
   "file_extension": ".py",
   "mimetype": "text/x-python",
   "name": "python",
   "nbconvert_exporter": "python",
   "pygments_lexer": "ipython3",
   "version": "3.8.5-final"
  },
  "orig_nbformat": 2,
  "kernelspec": {
   "name": "python_defaultSpec_1600759118174",
   "display_name": "Python 3.8.5 64-bit ('snowflakes': conda)"
  }
 },
 "nbformat": 4,
 "nbformat_minor": 2,
 "cells": [
  {
   "source": [
    "# JSON \n",
    "\n",
    "<p> JSON is syntax used for storing and exchanging the data, it is  \n",
    "</p>\n",
    "\n",
    "## 1. Parse JSON -convert from JSON to Python \n",
    "\n",
    "by using the json.loads() method we parse  the json formet to python "
   ],
   "cell_type": "markdown",
   "metadata": {}
  },
  {
   "cell_type": "code",
   "execution_count": 1,
   "metadata": {
    "tags": []
   },
   "outputs": [
    {
     "output_type": "stream",
     "name": "stdout",
     "text": "30\n{'name': 'John', 'age': 30, 'city': 'New York'}\n"
    }
   ],
   "source": [
    "import json\n",
    "# some JSON :\n",
    "\n",
    "x =  '{ \"name\":\"John\", \"age\":30, \"city\":\"New York\"}'\n",
    "# parse x:\n",
    "y = json.loads(x)\n",
    "\n",
    "# the result is a Python dictionary:\n",
    "print(y[\"age\"])\n",
    "print(y)"
   ]
  },
  {
   "source": [
    "## Converting from the Python to JSON\n",
    "\n",
    "we use the json.dumps() method to convert Python to Json \n"
   ],
   "cell_type": "markdown",
   "metadata": {}
  },
  {
   "cell_type": "code",
   "execution_count": 2,
   "metadata": {
    "tags": []
   },
   "outputs": [
    {
     "output_type": "stream",
     "name": "stdout",
     "text": "{\"name\": \"John\", \"age\": 30, \"city\": \"New York\"}\n"
    }
   ],
   "source": [
    "import json \n",
    "# dictionary (a python object )\n",
    "\n",
    "x = {\n",
    "    \"name\" : \"John\", \n",
    "    \"age\" : 30 , \n",
    "    \"city\" : \"New York\"\n",
    "}\n",
    "\n",
    "# convert into json \n",
    "y = json.dumps(x)\n",
    "\n",
    "print(y)"
   ]
  },
  {
   "source": [
    "We can also Convert Python objects of the following types , into JSON strings <br> \n",
    "* dict\n",
    "* List \n",
    "* Tuple \n",
    "* String \n",
    "* int \n",
    "* float \n",
    "* True \n",
    "* False \n",
    "* None \n",
    "\n"
   ],
   "cell_type": "markdown",
   "metadata": {}
  },
  {
   "source": [
    "<img src= \"conversion.png\">"
   ],
   "cell_type": "markdown",
   "metadata": {}
  },
  {
   "cell_type": "code",
   "execution_count": 3,
   "metadata": {
    "tags": []
   },
   "outputs": [
    {
     "output_type": "stream",
     "name": "stdout",
     "text": "{\"name\": \"John\", \"age\": 30, \"married\": true, \"divorced\": false, \"children\": [\"Ann\", \"Billy\"], \"pets\": null, \"cars\": [{\"model\": \"BMW 230\", \"mpg\": 27.5}, {\"model\": \"Ford Edge\", \"mpg\": 24.1}]}\n"
    }
   ],
   "source": [
    "import json\n",
    "\n",
    "x = {\n",
    "  \"name\": \"John\",\n",
    "  \"age\": 30,\n",
    "  \"married\": True,\n",
    "  \"divorced\": False,\n",
    "  \"children\": (\"Ann\",\"Billy\"),\n",
    "  \"pets\": None,\n",
    "  \"cars\": [\n",
    "    {\"model\": \"BMW 230\", \"mpg\": 27.5},\n",
    "    {\"model\": \"Ford Edge\", \"mpg\": 24.1}\n",
    "  ]\n",
    "}\n",
    "\n",
    "print(json.dumps(x))\n"
   ]
  },
  {
   "source": [
    "###  Format the Result \n",
    "\n",
    "in the above we have seen the Result,but it is not very easy to read , with no idententations and line breaks <br>\n",
    "\n",
    "> 1.The `json.dumps()` method has parameters to make it easier to read the results . and the `indent` parameter to define the number of indents.\n",
    "\n",
    "> 2.using the `seperators` parameter to change the default seperator \n",
    "\n"
   ],
   "cell_type": "markdown",
   "metadata": {}
  },
  {
   "cell_type": "code",
   "execution_count": 4,
   "metadata": {
    "tags": []
   },
   "outputs": [
    {
     "output_type": "execute_result",
     "data": {
      "text/plain": "'{\\n    \"name\" = \"John\". \\n    \"age\" = 30. \\n    \"married\" = true. \\n    \"divorced\" = false. \\n    \"children\" = [\\n        \"Ann\". \\n        \"Billy\"\\n    ]. \\n    \"pets\" = null. \\n    \"cars\" = [\\n        {\\n            \"model\" = \"BMW 230\". \\n            \"mpg\" = 27.5\\n        }. \\n        {\\n            \"model\" = \"Ford Edge\". \\n            \"mpg\" = 24.1\\n        }\\n    ]\\n}'"
     },
     "metadata": {},
     "execution_count": 4
    }
   ],
   "source": [
    "#using the seperators \n",
    "\n",
    "json.dumps(x, indent=4, separators=(\". \", \" = \"))\n",
    "\n"
   ]
  },
  {
   "cell_type": "code",
   "execution_count": 5,
   "metadata": {
    "tags": []
   },
   "outputs": [
    {
     "output_type": "execute_result",
     "data": {
      "text/plain": "'{\\n    \"age\": 30,\\n    \"cars\": [\\n        {\\n            \"model\": \"BMW 230\",\\n            \"mpg\": 27.5\\n        },\\n        {\\n            \"model\": \"Ford Edge\",\\n            \"mpg\": 24.1\\n        }\\n    ],\\n    \"children\": [\\n        \"Ann\",\\n        \"Billy\"\\n    ],\\n    \"divorced\": false,\\n    \"married\": true,\\n    \"name\": \"John\",\\n    \"pets\": null\\n}'"
     },
     "metadata": {},
     "execution_count": 5
    }
   ],
   "source": [
    "json.dumps(x, indent=4, sort_keys=True)"
   ]
  },
  {
   "source": [
    "# Problems to attempt\n",
    "\n",
    "1. Write a Python program to convert JSON data to Python object. \n",
    "\n",
    "2. Write a Python program to convert Python object to JSON data. \n",
    "\n",
    "3. Write a Python program to convert Python objects into JSON strings. Print all the values. \n",
    "\n",
    "4. Write a Python program to convert Python dictionary object (sort by key) to JSON data. Print the object members with indent level\n",
    "\n",
    "5. Write a Python program to convert JSON encoded data into Python objects.\n",
    "\n",
    "6. Write a Python program to create a new JSON file from an existing JSON file. \n",
    "\n",
    "7. Write a Python program to check whether an instance is complex or not. \n",
    "8. Write a Python program to check whether a JSON string contains complex object or not.\n",
    "\n",
    "9. Write a Python program to access only unique key value of a Python object."
   ],
   "cell_type": "markdown",
   "metadata": {}
  },
  {
   "source": [
    "#1.0    Write a Python program to convert JSON data to Python object.\n",
    "\n",
    "import json\n",
    "a = '{\"Kartikey\" : \"Aman\" ,\"Kartikey_age\" : 24  }'\n",
    "b= json.loads(a)\n",
    "print(b)\n",
    "print(type(b))"
   ],
   "cell_type": "code",
   "metadata": {
    "tags": []
   },
   "execution_count": 19,
   "outputs": [
    {
     "output_type": "stream",
     "name": "stdout",
     "text": "{'Kartikey': 'Aman', 'Kartikey_age': 24}\n<class 'dict'>\n"
    }
   ]
  },
  {
   "cell_type": "code",
   "execution_count": 18,
   "metadata": {
    "tags": []
   },
   "outputs": [
    {
     "output_type": "stream",
     "name": "stdout",
     "text": "{\"Kartikey\": \"Aman\", \"Kartikey_age\": 24}\n<class 'str'>\n"
    }
   ],
   "source": [
    "#2.0 \n",
    "a = {\"Kartikey\" : \"Aman\" ,\"Kartikey_age\" : 24  }\n",
    "b = json.dumps(a)\n",
    "print(b)\n",
    "print(type(b))"
   ]
  },
  {
   "cell_type": "code",
   "execution_count": 16,
   "metadata": {
    "tags": []
   },
   "outputs": [
    {
     "output_type": "stream",
     "name": "stdout",
     "text": "<class 'str'>\n"
    }
   ],
   "source": [
    "#4 Write a Python program to convert Python dictionary object (sort by key) to JSON data. Print the object members with indent level\n",
    "\n",
    "python_obj = {\"Name\"\"Kartikey\", \"Last Name\": \"Shaurya\", \"Roll\": 32}\n",
    "json_obj = json.dumps(python_obj)\n",
    "\n",
    "print(type(json_obj))"
   ]
  },
  {
   "cell_type": "code",
   "execution_count": null,
   "metadata": {},
   "outputs": [],
   "source": [
    "# JSON encoded data into Python objects\n"
   ]
  }
 ]
}