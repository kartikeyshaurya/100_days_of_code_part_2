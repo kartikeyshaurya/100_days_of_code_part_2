{
 "metadata": {
  "language_info": {
   "codemirror_mode": {
    "name": "ipython",
    "version": 3
   },
   "file_extension": ".py",
   "mimetype": "text/x-python",
   "name": "python",
   "nbconvert_exporter": "python",
   "pygments_lexer": "ipython3",
   "version": "3.8.5-final"
  },
  "orig_nbformat": 2,
  "kernelspec": {
   "name": "python3",
   "display_name": "Python 3"
  }
 },
 "nbformat": 4,
 "nbformat_minor": 2,
 "cells": [
  {
   "source": [
    "\n",
    "\n",
    "* kartikey shaurya\n",
    "* date of creation = 6 Nov 2020 :-)\n",
    "* Last Modified =  "
   ],
   "cell_type": "markdown",
   "metadata": {}
  },
  {
   "cell_type": "code",
   "execution_count": 5,
   "metadata": {},
   "outputs": [],
   "source": [
    "#importing the resources \n",
    "import numpy as np \n",
    "import pandas as pd \n"
   ]
  },
  {
   "source": [
    "# 5-6 main steps \n",
    "*   1.1 understanding the dataset \n",
    "*   1.2 Data Processing \n",
    "*   2.1 Babs of Words \n",
    "*   2.2 Implementing the bag of Words from scratch\n",
    "    1. step 1 converting the strings to lowercase \n",
    "    2. step 2 Removing the puncations \n",
    "    3. step 3 Tokienisation \n",
    "    4. step 4 counting the frequencies \n",
    "*   2.3 Implemeting the bag of words in scikit-learn \n",
    "*   3.1 training and Testing sets \n",
    "*   3.2 applying the bags of words Processing to our dataset\n",
    "*   4.1 Bayes Theorem Implementation from scratch \n",
    "*   4.2 Naive Bayes Implementation from scratch \n",
    "*   5. Naive Bayes Implementation using scikit-learn \n",
    "*   6. Evaluating the model \n",
    "*   7. Reading the conclusions \n",
    "\n",
    "\n",
    "\n"
   ],
   "cell_type": "markdown",
   "metadata": {}
  },
  {
   "cell_type": "code",
   "execution_count": 6,
   "metadata": {},
   "outputs": [
    {
     "output_type": "execute_result",
     "data": {
      "text/plain": [
       "  label                                                sms\n",
       "0   ham  Go until jurong point, crazy.. Available only ...\n",
       "1   ham                      Ok lar... Joking wif u oni...\n",
       "2  spam  Free entry in 2 a wkly comp to win FA Cup fina...\n",
       "3   ham  U dun say so early hor... U c already then say...\n",
       "4   ham  Nah I don't think he goes to usf, he lives aro..."
      ],
      "text/html": "<div>\n<style scoped>\n    .dataframe tbody tr th:only-of-type {\n        vertical-align: middle;\n    }\n\n    .dataframe tbody tr th {\n        vertical-align: top;\n    }\n\n    .dataframe thead th {\n        text-align: right;\n    }\n</style>\n<table border=\"1\" class=\"dataframe\">\n  <thead>\n    <tr style=\"text-align: right;\">\n      <th></th>\n      <th>label</th>\n      <th>sms</th>\n    </tr>\n  </thead>\n  <tbody>\n    <tr>\n      <th>0</th>\n      <td>ham</td>\n      <td>Go until jurong point, crazy.. Available only ...</td>\n    </tr>\n    <tr>\n      <th>1</th>\n      <td>ham</td>\n      <td>Ok lar... Joking wif u oni...</td>\n    </tr>\n    <tr>\n      <th>2</th>\n      <td>spam</td>\n      <td>Free entry in 2 a wkly comp to win FA Cup fina...</td>\n    </tr>\n    <tr>\n      <th>3</th>\n      <td>ham</td>\n      <td>U dun say so early hor... U c already then say...</td>\n    </tr>\n    <tr>\n      <th>4</th>\n      <td>ham</td>\n      <td>Nah I don't think he goes to usf, he lives aro...</td>\n    </tr>\n  </tbody>\n</table>\n</div>"
     },
     "metadata": {},
     "execution_count": 6
    }
   ],
   "source": [
    "# loading the pandas \n",
    "\n",
    "df = pd.read_table('smsspamcollection/SMSSpamCollection', \n",
    "                    sep = '\\t' , \n",
    "                    header = None ,\n",
    "                    names = ['label', 'sms'])\n",
    "\n",
    "# Output priniting out first 5 columns \n",
    "\n",
    "df.head()"
   ]
  },
  {
   "cell_type": "code",
   "execution_count": 23,
   "metadata": {},
   "outputs": [],
   "source": [
    "# step 1.2 data processing \n",
    "# converting the ham into 0 \n",
    "# spam into 1 \n",
    "# printing the shape \n",
    "\n",
    "\n",
    "df['label'] = df.label.map(({'ham':0, 'spam':1}))\n"
   ]
  },
  {
   "cell_type": "code",
   "execution_count": 19,
   "metadata": {},
   "outputs": [
    {
     "output_type": "stream",
     "name": "stdout",
     "text": [
      "0        ham\n1        ham\n2       spam\n3        ham\n4        ham\n        ... \n5567    spam\n5568     ham\n5569     ham\n5570     ham\n5571     ham\nName: label, Length: 5572, dtype: object\n"
     ]
    }
   ],
   "source": [
    "print(df['label'])"
   ]
  },
  {
   "cell_type": "code",
   "execution_count": null,
   "metadata": {},
   "outputs": [],
   "source": []
  },
  {
   "cell_type": "code",
   "execution_count": null,
   "metadata": {},
   "outputs": [],
   "source": []
  }
 ]
}